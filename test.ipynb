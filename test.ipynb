{
 "cells": [
  {
   "cell_type": "code",
   "execution_count": 4,
   "id": "730a293e",
   "metadata": {},
   "outputs": [
    {
     "name": "stderr",
     "output_type": "stream",
     "text": [
      "/home/xujiaming/xujiaming/anaconda3/envs/specmod/lib/python3.12/site-packages/tqdm/auto.py:21: TqdmWarning: IProgress not found. Please update jupyter and ipywidgets. See https://ipywidgets.readthedocs.io/en/stable/user_install.html\n",
      "  from .autonotebook import tqdm as notebook_tqdm\n"
     ]
    }
   ],
   "source": [
    "import os\n",
    "os.environ[\"CUDA_VISIBLE_DEVICES\"] = \"2\"\n",
    "from transformers import AutoTokenizer\n",
    "from transformers import AutoModelForCausalLM,Qwen3ForCausalLM\n",
    "# /share/public/public_models/Qwen3-14B/\n",
    "# /share/others/public_models/Qwen3-14B/\n",
    "\n",
    "tokenizer = AutoTokenizer.from_pretrained(\"/share/others/public_models/Qwen3-14B/\")\n",
    "# model = AutoModelForCausalLM.from_pretrained(\"/share/others/public_models/Qwen3-14B/\")"
   ]
  },
  {
   "cell_type": "code",
   "execution_count": 5,
   "id": "73a182d1",
   "metadata": {},
   "outputs": [],
   "source": [
    "messages = [\n",
    "    {\"role\": \"system\",\n",
    "        \"content\": \"You are a helpful, respectful and honest assistant. Always answer as helpfully as possible, while being safe.  Your answers should not include any harmful, unethical, racist, sexist, toxic, dangerous, or illegal content. Please ensure that your responses are socially unbiased and positive in nature.\\n\\nIf a question does not make any sense, or is not factually coherent, explain why instead of answering something not correct. If you don't know the answer to a question, please don't share false information.\"},\n",
    "]\n",
    "messages.append({\n",
    "            \"role\": \"user\",\n",
    "            \"content\": \"How are you\"\n",
    "        })\n",
    "inputs = tokenizer.apply_chat_template(\n",
    "    messages,\n",
    "    add_generation_prompt=True,\n",
    "    tokenize=True,\n",
    "    return_dict=True,\n",
    "    return_tensors=\"pt\",\n",
    ")"
   ]
  },
  {
   "cell_type": "code",
   "execution_count": 14,
   "id": "c81c5d9d",
   "metadata": {},
   "outputs": [
    {
     "data": {
      "text/plain": [
       "[151644,\n",
       " 8948,\n",
       " 198,\n",
       " 2610,\n",
       " 525,\n",
       " 264,\n",
       " 10950,\n",
       " 11,\n",
       " 48050,\n",
       " 323,\n",
       " 10745,\n",
       " 17847,\n",
       " 13,\n",
       " 23240,\n",
       " 4226,\n",
       " 438,\n",
       " 1492,\n",
       " 3641,\n",
       " 438,\n",
       " 3204,\n",
       " 11,\n",
       " 1393,\n",
       " 1660,\n",
       " 6092,\n",
       " 13,\n",
       " 220,\n",
       " 4615,\n",
       " 11253,\n",
       " 1265,\n",
       " 537,\n",
       " 2924,\n",
       " 894,\n",
       " 27756,\n",
       " 11,\n",
       " 88635,\n",
       " 11,\n",
       " 24207,\n",
       " 11,\n",
       " 63782,\n",
       " 11,\n",
       " 20836,\n",
       " 11,\n",
       " 11406,\n",
       " 11,\n",
       " 476,\n",
       " 11816,\n",
       " 2213,\n",
       " 13,\n",
       " 5209,\n",
       " 5978,\n",
       " 429,\n",
       " 697,\n",
       " 14507,\n",
       " 525,\n",
       " 39318,\n",
       " 73215,\n",
       " 323,\n",
       " 6785,\n",
       " 304,\n",
       " 6993,\n",
       " 382,\n",
       " 2679,\n",
       " 264,\n",
       " 3405,\n",
       " 1558,\n",
       " 537,\n",
       " 1281,\n",
       " 894,\n",
       " 5530,\n",
       " 11,\n",
       " 476,\n",
       " 374,\n",
       " 537,\n",
       " 2097,\n",
       " 1832,\n",
       " 55787,\n",
       " 11,\n",
       " 10339,\n",
       " 3170,\n",
       " 4518,\n",
       " 315,\n",
       " 35764,\n",
       " 2494,\n",
       " 537,\n",
       " 4396,\n",
       " 13,\n",
       " 1416,\n",
       " 498,\n",
       " 1513,\n",
       " 944,\n",
       " 1414,\n",
       " 279,\n",
       " 4226,\n",
       " 311,\n",
       " 264,\n",
       " 3405,\n",
       " 11,\n",
       " 4486,\n",
       " 1513,\n",
       " 944,\n",
       " 4332,\n",
       " 895,\n",
       " 1995,\n",
       " 13,\n",
       " 151645,\n",
       " 198,\n",
       " 151644,\n",
       " 872,\n",
       " 198,\n",
       " 4340,\n",
       " 525,\n",
       " 498,\n",
       " 151645,\n",
       " 198,\n",
       " 151644,\n",
       " 77091,\n",
       " 198]"
      ]
     },
     "execution_count": 14,
     "metadata": {},
     "output_type": "execute_result"
    }
   ],
   "source": [
    "inputs.input_ids.squeeze(0).tolist()\n"
   ]
  },
  {
   "cell_type": "code",
   "execution_count": 15,
   "id": "9febea18",
   "metadata": {},
   "outputs": [],
   "source": [
    "from typing import Optional\n",
    "import json\n",
    "def load_questions(question_file: str, begin: Optional[int], end: Optional[int]):\n",
    "    \"\"\"Load questions from a file.\"\"\"\n",
    "    questions = []\n",
    "    with open(question_file, \"r\") as ques_file:\n",
    "        for line in ques_file:\n",
    "            if line:\n",
    "                questions.append(json.loads(line))\n",
    "    questions = questions[begin:end]\n",
    "    return questions\n",
    "\n",
    "dataset_path = '/home/xujiaming/xujiaming/Paper/dataset/mt-bench/question.jsonl'\n",
    "questions = load_questions(dataset_path,0,1)"
   ]
  },
  {
   "cell_type": "code",
   "execution_count": 18,
   "id": "1904cddb",
   "metadata": {},
   "outputs": [
    {
     "data": {
      "text/plain": [
       "{'question_id': 81,\n",
       " 'category': 'writing',\n",
       " 'turns': ['Compose an engaging travel blog post about a recent trip to Hawaii, highlighting cultural experiences and must-see attractions.',\n",
       "  'Rewrite your previous response. Start every sentence with the letter A.']}"
      ]
     },
     "execution_count": 18,
     "metadata": {},
     "output_type": "execute_result"
    }
   ],
   "source": [
    "questions[0]"
   ]
  },
  {
   "cell_type": "code",
   "execution_count": null,
   "id": "baef0568",
   "metadata": {},
   "outputs": [],
   "source": [
    "a = [[[] for i in range(10)] for _ in range(10)]"
   ]
  },
  {
   "cell_type": "code",
   "execution_count": null,
   "id": "a1ee3b40",
   "metadata": {},
   "outputs": [],
   "source": [
    "a={}"
   ]
  },
  {
   "cell_type": "code",
   "execution_count": 2,
   "id": "25623ae1",
   "metadata": {},
   "outputs": [],
   "source": [
    "a[100] = 10"
   ]
  },
  {
   "cell_type": "code",
   "execution_count": 3,
   "id": "d69e4cd2",
   "metadata": {},
   "outputs": [
    {
     "data": {
      "text/plain": [
       "{100: 10}"
      ]
     },
     "execution_count": 3,
     "metadata": {},
     "output_type": "execute_result"
    }
   ],
   "source": [
    "a"
   ]
  },
  {
   "cell_type": "code",
   "execution_count": 60,
   "id": "c61f422c",
   "metadata": {},
   "outputs": [],
   "source": [
    "a[0][0].append(5)"
   ]
  },
  {
   "cell_type": "code",
   "execution_count": 63,
   "id": "bd68e449",
   "metadata": {},
   "outputs": [
    {
     "data": {
      "text/plain": [
       "[[[5], [5], [], [], [], [], [], [], [], []],\n",
       " [[], [], [], [], [], [], [], [], [], []],\n",
       " [[], [], [], [], [], [], [], [], [], []],\n",
       " [[], [], [], [], [], [], [], [], [], []],\n",
       " [[], [], [], [], [], [], [], [], [], []],\n",
       " [[], [], [], [], [], [], [], [], [], []],\n",
       " [[], [], [], [], [], [], [], [], [], []],\n",
       " [[], [], [], [], [], [], [], [], [], []],\n",
       " [[], [], [], [], [], [], [], [], [], []],\n",
       " [[], [], [], [], [], [], [], [], [], []]]"
      ]
     },
     "execution_count": 63,
     "metadata": {},
     "output_type": "execute_result"
    }
   ],
   "source": [
    "a"
   ]
  },
  {
   "cell_type": "code",
   "execution_count": 62,
   "id": "16fa8895",
   "metadata": {},
   "outputs": [],
   "source": [
    "a[0][1] = a[0][0]"
   ]
  },
  {
   "cell_type": "markdown",
   "id": "db2a90ff",
   "metadata": {},
   "source": []
  },
  {
   "cell_type": "code",
   "execution_count": 27,
   "id": "6c5c64b7",
   "metadata": {},
   "outputs": [
    {
     "name": "stdout",
     "output_type": "stream",
     "text": [
      "v1: tensor([[[1., 2., 3.]]])\n",
      "v2: tensor([[[1., 1., 3.]]])\n",
      "1D 向量余弦相似度: 0.9669874906539917\n"
     ]
    }
   ],
   "source": [
    "import torch\n",
    "import torch.nn.functional as F\n",
    "\n",
    "v1 = torch.tensor([1., 2., 3.]).unsqueeze(0).unsqueeze(0)\n",
    "v2 = torch.tensor([1., 1., 3.]).unsqueeze(0).unsqueeze(0)\n",
    "\n",
    "# 对于 1D 向量，我们需要在 dim=0 上计算\n",
    "similarity_1d = F.cosine_similarity(v1, v2, dim= -1).mean()\n",
    "print(f\"v1: {v1}\")\n",
    "print(f\"v2: {v2}\")\n",
    "print(f\"1D 向量余弦相似度: {similarity_1d}\")"
   ]
  },
  {
   "cell_type": "code",
   "execution_count": 12,
   "id": "7096a341",
   "metadata": {},
   "outputs": [],
   "source": [
    "import torch\n",
    "a = torch.tensor([[1.,2.,3.]])"
   ]
  },
  {
   "cell_type": "code",
   "execution_count": 14,
   "id": "9b874614",
   "metadata": {},
   "outputs": [
    {
     "data": {
      "text/plain": [
       "2"
      ]
     },
     "execution_count": 14,
     "metadata": {},
     "output_type": "execute_result"
    }
   ],
   "source": [
    "torch.argmax(a).item()"
   ]
  },
  {
   "cell_type": "code",
   "execution_count": null,
   "id": "edb653dd",
   "metadata": {},
   "outputs": [
    {
     "name": "stdout",
     "output_type": "stream",
     "text": [
      "{'81': {'Prompt': [151644, 8948, 198, 2610, 525, 264, 10950, 11, 48050, 323, 10745, 17847, 13, 23240, 4226, 438, 1492, 3641, 438, 3204, 11, 1393, 1660, 6092, 13, 220, 4615, 11253, 1265, 537, 2924, 894, 27756, 11, 88635, 11, 24207, 11, 63782, 11, 20836, 11, 11406, 11, 476, 11816, 2213, 13, 5209, 5978, 429, 697, 14507, 525, 39318, 73215, 323, 6785, 304, 6993, 382, 2679, 264, 3405, 1558, 537, 1281, 894, 5530, 11, 476, 374, 537, 2097, 1832, 55787, 11, 10339, 3170, 4518, 315, 35764, 2494, 537, 4396, 13, 1416, 498, 1513, 944, 1414, 279, 4226, 311, 264, 3405, 11, 4486, 1513, 944, 4332, 895, 1995, 13, 151645, 198, 151644, 872, 198, 70492, 458, 22570, 5821, 5010, 1736, 911, 264, 3213, 8411, 311, 27521, 11, 38586, 12752, 11449, 323, 1969, 12, 4060, 38491, 13, 151645, 198, 151644, 77091, 198], 'Token': {'198': {'layer_index': [19, 20, 29, 30, 35, 36, 37, 39], 'similarity': 0.11242804676294327}, '32313': {'layer_index': [0, 1, 5, 8, 9, 11, 12, 13, 16, 21, 26, 28, 29, 30, 38, 39], 'similarity': 0.35404250025749207}, '11': {'layer_index': [0, 5, 6, 11, 17, 29, 32], 'similarity': 0.1374615579843521}, '279': {'layer_index': [0, 7, 8, 9, 10, 11, 13, 14, 15, 16, 26, 34], 'similarity': 0.1265527606010437}, '1196': {'layer_index': [0, 4, 6, 8, 9, 11, 12, 13, 14, 15, 20, 21, 23, 29, 30, 33], 'similarity': 0.22095587849617004}, '6801': {'layer_index': [0, 4, 5, 8, 9, 10, 12, 13, 14, 15, 20, 26, 27, 30, 34, 38, 39], 'similarity': 0.2972051501274109}, '752': {'layer_index': [0, 4, 8, 9, 10, 13, 14, 16, 17, 18, 23, 27, 28, 29, 30, 31, 32, 38, 39], 'similarity': 0.37451279163360596}, '311': {'layer_index': [0, 5, 6, 8, 9, 14, 15, 16, 17, 20, 21, 22, 24, 25, 27, 28, 29, 30, 31, 32, 33, 34, 35, 36, 37, 38, 39], 'similarity': 0.7261499166488647}, '30335': {'layer_index': [19, 20, 30, 32, 35, 36, 37, 38, 39], 'similarity': 0.28924721479415894}, '458': {'layer_index': [0, 1, 4, 7, 8, 9, 16, 17, 18, 23, 26, 34], 'similarity': 0.19919896125793457}, '22570': {'layer_index': [0, 2, 4, 8, 9, 10, 13, 14, 15, 16, 17, 23, 30, 31, 32, 34, 37, 38, 39], 'similarity': 0.5864161252975464}, '5821': {'layer_index': [0, 2, 4, 8, 9, 10, 13, 14, 15, 20, 23, 29, 32, 38, 39], 'similarity': 0.25045648217201233}, '5010': {'layer_index': [0, 5, 6, 8, 13, 14, 16, 17, 20, 29, 31, 32], 'similarity': 0.1956930160522461}, '1736': {'layer_index': [0, 5, 8, 9, 13, 14, 15, 16, 23, 29, 30, 34, 37], 'similarity': 0.2655996084213257}, '911': {'layer_index': [0, 3, 5, 8, 9, 13, 14, 15, 16, 17, 22, 26, 29], 'similarity': 0.2998620867729187}, '264': {'layer_index': [0, 4, 5, 8, 9, 11, 13, 14, 15, 17, 25, 32, 38], 'similarity': 0.1909940540790558}, '3213': {'layer_index': [0, 4, 6, 8, 9, 13, 14, 15, 16, 17, 23, 31, 32, 33, 34, 35, 38, 39], 'similarity': 0.5816769599914551}, '8411': {'layer_index': [0, 5, 8, 9, 10, 13, 16, 17, 26, 32, 38, 39], 'similarity': 0.2547260522842407}, '27521': {'layer_index': [0, 1, 5, 8, 9, 10, 13, 14, 15, 16, 25, 26, 34, 35, 36, 38, 39], 'similarity': 0.4537694454193115}, '21080': {'layer_index': [0, 4, 8, 9, 10, 11, 12, 16, 17, 20, 23, 24, 29, 30, 31, 34, 37, 39], 'similarity': 0.35366955399513245}, '389': {'layer_index': [0, 5, 8, 9, 10, 13, 14, 15, 20, 21, 26, 29], 'similarity': 0.3398711383342743}, '12752': {'layer_index': [19, 20, 21, 23, 24, 25, 26, 27, 32, 33, 35, 37, 38, 39], 'similarity': 0.17679505050182343}, '11449': {'layer_index': [0, 2, 6, 8, 9, 13, 14, 17, 20, 21, 22, 26, 32, 34, 35, 37, 39], 'similarity': 0.2420908808708191}, '323': {'layer_index': [0, 4, 5, 8, 9, 17, 22, 23, 26], 'similarity': 0.29077374935150146}, '1969': {'layer_index': [0, 4, 8, 9, 10, 11, 17, 18, 23, 26, 32], 'similarity': 0.18798606097698212}, '12': {'layer_index': [0, 4, 6, 8, 9, 13, 14, 16, 30, 34], 'similarity': 0.07897529006004333}, '4060': {'layer_index': [0, 5, 6, 8, 9, 11, 12, 13, 14, 15, 16, 18, 20, 23, 26, 31, 33, 35, 37, 38, 39], 'similarity': 0.47335612773895264}, '38491': {'layer_index': [0, 2, 4, 5, 8, 9, 13, 14, 26, 34, 38, 39], 'similarity': 0.32722312211990356}, '13': {'layer_index': [0, 6, 8, 9, 10, 13, 14, 15, 23, 24, 26, 34, 38], 'similarity': 0.1784600019454956}, '6771': {'layer_index': [0, 4, 6, 8, 9, 11, 13, 14, 15, 23, 29, 31, 32, 33, 35, 38, 39], 'similarity': 0.5137515068054199}, '1191': {'layer_index': [0, 1, 7, 8, 9, 10, 13, 14, 15, 16, 23, 26, 30, 31, 32, 33, 37, 38, 39], 'similarity': 0.5294590592384338}, '553': {'layer_index': [0, 4, 6, 8, 9, 12, 13, 14, 15, 23, 26, 29, 31, 38], 'similarity': 0.22051571309566498}, '86781': {'layer_index': [0, 1, 4, 8, 9, 10, 12, 13, 23, 24, 29, 30, 33], 'similarity': 0.2593677043914795}, '287': {'layer_index': [0, 9], 'similarity': 0.12431588023900986}, '1376': {'layer_index': [0, 1, 4, 8, 9, 10, 13, 14, 15, 16, 17, 34, 35, 38, 39], 'similarity': 0.37541699409484863}, '5424': {'layer_index': [0, 4, 8, 9, 10, 13, 14, 15, 16, 26, 31, 32, 33, 35, 38], 'similarity': 0.2290743738412857}, '429': {'layer_index': [0, 5, 8, 9, 11, 13, 14, 15, 16, 23, 24, 25, 35], 'similarity': 0.1972230076789856}, '1281': {'layer_index': [0, 1, 4, 8, 9, 10, 13, 15, 16, 22, 24, 25, 30, 31, 33, 34, 35, 37, 38, 39], 'similarity': 0.7477525472640991}, '4911': {'layer_index': [0, 1, 4, 6, 8, 9, 14, 15, 16, 22, 25, 28, 31, 34], 'similarity': 0.31674492359161377}, '5512': {'layer_index': [0, 4, 6, 8, 9, 10, 13, 14, 16, 17, 18, 20, 21, 22, 23, 24, 25, 26, 27, 28, 29, 30, 31, 32, 33, 34, 35, 36, 37, 38, 39], 'similarity': 0.7680370807647705}, '29000': {'layer_index': [0, 5, 6, 8, 9, 14, 15, 16, 17, 22, 26, 30, 31, 32, 38, 39], 'similarity': 0.5141988396644592}, '5577': {'layer_index': [0, 5, 6, 7, 8, 9, 14, 15, 16, 17, 20, 26, 27, 28, 29, 31, 32, 33, 35, 37, 38, 39], 'similarity': 0.741859495639801}, '2293': {'layer_index': [0, 1, 7, 9, 10, 13, 14, 20, 30, 33, 38], 'similarity': 0.24728532135486603}, '18532': {'layer_index': [0, 1, 6, 8, 9, 10, 13, 17, 21, 22, 23, 24, 25, 27, 28, 29, 30, 31, 32, 33, 34, 35, 36, 37, 38, 39], 'similarity': 0.847152590751648}, '525': {'layer_index': [0, 4, 8, 9, 14, 17, 20, 21, 22, 24, 25, 29, 32, 35], 'similarity': 0.3078998923301697}, '3807': {'layer_index': [0, 1, 6, 8, 9, 13, 14, 15, 16, 20, 21, 26, 28, 29, 30, 31, 32, 33, 35, 37, 38, 39], 'similarity': 0.7523927092552185}, '1075': {'layer_index': [0, 8, 9, 10, 13, 14, 23, 24, 25, 26, 27, 34, 35, 37, 38, 39], 'similarity': 0.42970335483551025}, '506': {'layer_index': [0, 5, 6, 9, 10, 13, 14, 15, 16, 17, 31, 38, 39], 'similarity': 0.2680497467517853}, '26695': {'layer_index': [0, 4, 5, 6, 8, 13, 14, 15, 16, 17, 20, 23, 26, 27, 30, 32, 33, 38, 39], 'similarity': 0.37693434953689575}, '92450': {'layer_index': [0, 4, 8, 9, 10, 13, 15, 16, 17, 21, 26, 30, 31, 35, 37, 38, 39], 'similarity': 0.613211989402771}, '6164': {'layer_index': [0, 4, 8, 9, 10, 11, 13, 14, 17, 18, 21, 26, 29, 30, 31, 33, 35, 36, 37, 38, 39], 'similarity': 0.7703249454498291}, '10720': {'layer_index': [0, 1, 6, 9, 14, 15, 26, 29, 30, 31, 32, 33, 35, 37, 38, 39], 'similarity': 0.48723697662353516}, '730': {'layer_index': [0, 4, 8, 9, 10, 13, 14, 20, 21, 26, 29, 30, 31, 32, 33, 35, 36, 37, 38, 39], 'similarity': 0.7922715544700623}, '2863': {'layer_index': [0, 4, 5, 6, 8, 9, 13, 14, 20, 23, 30, 31, 32, 35, 37, 38, 39], 'similarity': 0.44801151752471924}, '2143': {'layer_index': [0, 3, 4, 6, 8, 9, 13, 14, 18, 23, 27, 28, 29, 30, 31, 32, 37, 38, 39], 'similarity': 0.527580738067627}, '8886': {'layer_index': [0, 5, 7, 9, 11, 13, 14, 15, 23, 24, 26, 29, 30, 34, 35, 38], 'similarity': 0.2521148920059204}, '702': {'layer_index': [0, 1, 6, 8, 9, 13, 14, 16, 17, 20, 22, 26, 28, 29, 31, 32, 33, 38, 39], 'similarity': 0.5576555728912354}, '1181': {'layer_index': [0, 2, 5, 9, 10, 13, 14, 15, 16, 26, 28, 30, 31, 33, 35, 37, 38], 'similarity': 0.3015808165073395}, '1828': {'layer_index': [0, 2, 6, 8, 13, 14, 16, 23, 30, 33, 35, 37, 38], 'similarity': 0.17266212403774261}, '46711': {'layer_index': [0, 2, 6, 8, 9, 10, 12, 13, 14, 15, 16, 17, 26, 30, 31, 32, 33, 34, 35, 37, 39], 'similarity': 0.49082672595977783}, '10696': {'layer_index': [0, 1, 7, 9, 10, 11, 13, 14, 20, 21, 22, 23, 24, 25, 26, 27, 28, 29, 30, 31, 32, 33, 34, 35, 36, 37, 38, 39], 'similarity': 0.7105796337127686}, '358': {'layer_index': [0, 1, 7, 9, 10, 11, 13, 14, 15, 16, 17, 18, 19, 20, 21, 22, 23, 24, 25, 26, 27, 28, 29, 30, 31, 32, 33, 34, 35, 36, 37, 38, 39], 'similarity': 0.8415930271148682}, '1265': {'layer_index': [0, 1, 4, 7, 8, 9, 12, 13, 14, 23, 24, 31, 34], 'similarity': 0.196170374751091}, '3735': {'layer_index': [0, 1, 7, 8, 9, 13, 14, 15, 16, 20, 21, 22, 23, 24, 25, 26, 27, 28, 29, 30, 31, 32, 33, 34, 35, 36, 37, 38, 39], 'similarity': 0.8329291343688965}, '2421': {'layer_index': [0, 4, 6, 8, 9, 11, 13, 14, 15, 16, 26, 31, 32, 33, 35, 36, 37, 38, 39], 'similarity': 0.5625238418579102}, '21314': {'layer_index': [0, 1, 4, 6, 7, 8, 9, 10, 11, 12, 13, 14, 15, 16, 17, 18, 19, 20, 21, 22, 23, 24, 25, 26, 27, 28, 29, 30, 31, 32, 33, 34, 35, 36, 37, 38, 39], 'similarity': 0.9272559881210327}, '504': {'layer_index': [0, 3, 5, 8, 9, 14, 15, 16, 17, 22, 23, 24, 26, 27, 29, 30, 31, 32, 33, 35, 37, 38, 39], 'similarity': 0.6984801888465881}, '2155': {'layer_index': [0, 5, 8, 9, 10, 13, 14, 15, 16, 17, 23, 24, 25, 26, 27, 31, 34, 35, 37, 38, 39], 'similarity': 0.6400660276412964}, '2968': {'layer_index': [0, 1, 4, 8, 9, 10, 13, 15, 16, 20, 21, 24, 26, 28, 29, 31, 32, 33, 35, 37, 38, 39], 'similarity': 0.6999678611755371}, '1632': {'layer_index': [0, 2, 6, 8, 9, 10, 11, 13, 14, 15, 17, 23, 24, 26, 27, 28, 29, 30, 31, 32, 33, 34, 35, 36, 37, 38, 39], 'similarity': 0.8737574219703674}, '64218': {'layer_index': [0, 3, 5, 8, 9, 10, 12, 13, 14, 15, 16, 25, 34], 'similarity': 0.1411704123020172}, '1651': {'layer_index': [0, 3, 5, 6, 8, 9, 13, 14, 17, 22, 25, 28, 29, 30, 38], 'similarity': 0.25042492151260376}, '382': {'layer_index': [0, 4, 8, 9, 11, 13, 14, 16, 17, 23, 25], 'similarity': 0.21750915050506592}, '34': {'layer_index': [0, 4, 6, 8, 9, 11, 15, 16, 17, 23, 24, 29, 30, 31, 32, 35, 37, 38, 39], 'similarity': 0.653022289276123}, '43447': {'layer_index': [0, 4, 5, 8, 9, 10, 13, 14, 16, 17, 20, 21, 22, 24, 26, 32, 33, 35], 'similarity': 0.2384141981601715}, '2989': {'layer_index': [0, 1, 6, 8, 9, 10, 16, 17, 20, 24, 25, 26, 30, 31, 32, 37, 38, 39], 'similarity': 0.5748763084411621}}, 'avg_len': 16.19191919191919}}\n"
     ]
    }
   ],
   "source": []
  },
  {
   "cell_type": "code",
   "execution_count": null,
   "id": "f1d9683b",
   "metadata": {},
   "outputs": [],
   "source": []
  }
 ],
 "metadata": {
  "kernelspec": {
   "display_name": "specmod",
   "language": "python",
   "name": "python3"
  },
  "language_info": {
   "codemirror_mode": {
    "name": "ipython",
    "version": 3
   },
   "file_extension": ".py",
   "mimetype": "text/x-python",
   "name": "python",
   "nbconvert_exporter": "python",
   "pygments_lexer": "ipython3",
   "version": "3.12.0"
  }
 },
 "nbformat": 4,
 "nbformat_minor": 5
}
